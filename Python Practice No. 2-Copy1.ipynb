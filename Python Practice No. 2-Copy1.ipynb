{
 "cells": [
  {
   "cell_type": "code",
   "execution_count": 66,
   "metadata": {},
   "outputs": [
    {
     "data": {
      "text/plain": [
       "'ymmij'"
      ]
     },
     "execution_count": 66,
     "metadata": {},
     "output_type": "execute_result"
    }
   ],
   "source": [
    "### reverse strings challenge ###\n",
    "# write a function that reverses a string #\n",
    "\n",
    "# first to reverse a word use [::-1]\n",
    "\n",
    "name = 'gabe'\n",
    "name[::-1]\n",
    "\n",
    "# if you have more than two words, and you wanna reverse the second one\n",
    "# first capture the name\n",
    "# then apply the reverse order\n",
    "\n",
    "# reverse jimmy\n",
    "names = ['gabe','jerry','jimmy']\n",
    "names[2]\n",
    "names[2][::-1]"
   ]
  },
  {
   "cell_type": "code",
   "execution_count": 71,
   "metadata": {},
   "outputs": [],
   "source": [
    "def reverse(strings):\n",
    "    for string in strings:\n",
    "        return strings[::-1]\n",
    "    \n",
    "reverse('')"
   ]
  },
  {
   "cell_type": "code",
   "execution_count": 70,
   "metadata": {},
   "outputs": [
    {
     "data": {
      "text/plain": [
       "''"
      ]
     },
     "execution_count": 70,
     "metadata": {},
     "output_type": "execute_result"
    }
   ],
   "source": [
    "def reverse(strings):\n",
    "    return strings[::-1]\n",
    "    \n",
    "reverse('')"
   ]
  },
  {
   "cell_type": "code",
   "execution_count": 98,
   "metadata": {},
   "outputs": [
    {
     "data": {
      "text/plain": [
       "-100"
      ]
     },
     "execution_count": 98,
     "metadata": {},
     "output_type": "execute_result"
    }
   ],
   "source": [
    "# take sum of two lowest positive integers\n",
    "\n",
    "def sum_two_smallest_numbers(numbers):\n",
    "    for number in numbers:\n",
    "        return sum(sorted(numbers)[:2])\n",
    "\n",
    "sum_two_smallest_numbers([-83,-17,23,2,32])"
   ]
  },
  {
   "cell_type": "code",
   "execution_count": 119,
   "metadata": {},
   "outputs": [
    {
     "data": {
      "text/plain": [
       "-11"
      ]
     },
     "execution_count": 119,
     "metadata": {},
     "output_type": "execute_result"
    }
   ],
   "source": [
    "########### THIS ONE IS CHALLENGING TRY LATER ########\n",
    "######################################################\n",
    "\n",
    "def sum_two_smallest_positive_numbers(numbers):\n",
    "    for x in numbers:\n",
    "        if x > 0:\n",
    "            return sum(sorted(numbers)[:2])\n",
    "sum_two_smallest_positive_numbers(lists)"
   ]
  },
  {
   "cell_type": "code",
   "execution_count": 136,
   "metadata": {},
   "outputs": [],
   "source": [
    "new_list = '1 4 5 3 -2 -17'"
   ]
  },
  {
   "cell_type": "code",
   "execution_count": 147,
   "metadata": {},
   "outputs": [
    {
     "data": {
      "text/plain": [
       "['-17', '-2', '1', '3', '4', '5']"
      ]
     },
     "execution_count": 147,
     "metadata": {},
     "output_type": "execute_result"
    }
   ],
   "source": [
    "sorted(new_list.split())"
   ]
  },
  {
   "cell_type": "code",
   "execution_count": 291,
   "metadata": {},
   "outputs": [
    {
     "data": {
      "text/plain": [
       "'542 -214'"
      ]
     },
     "execution_count": 291,
     "metadata": {},
     "output_type": "execute_result"
    }
   ],
   "source": [
    "def high_and_low(number_string):\n",
    "    splits = number_string.split(' ')\n",
    "    numbers = []\n",
    "    for num_string in splits:\n",
    "        n = int(num_string)\n",
    "        numbers.append(n)\n",
    "    sorted_numbers = sorted(numbers)\n",
    "    high_low = str(sorted_numbers[-1]) + ' ' + str(sorted_numbers[0])\n",
    "    return high_low\n",
    "\n",
    "high_and_low(newest_list)"
   ]
  },
  {
   "cell_type": "code",
   "execution_count": 250,
   "metadata": {},
   "outputs": [
    {
     "data": {
      "text/plain": [
       "(-214, 542)"
      ]
     },
     "execution_count": 250,
     "metadata": {},
     "output_type": "execute_result"
    }
   ],
   "source": [
    "def high_and_low(number_string):\n",
    "    split_list = [int(n) for n in number_string.split()]\n",
    "    sorted_list = sorted(split_list)\n",
    "    for numbers in sorted_list:\n",
    "        return min(sorted_list),max(sorted_list)\n",
    "\n",
    "high_and_low(newest_list)"
   ]
  },
  {
   "cell_type": "code",
   "execution_count": 345,
   "metadata": {},
   "outputs": [
    {
     "data": {
      "text/plain": [
       "3"
      ]
     },
     "execution_count": 345,
     "metadata": {},
     "output_type": "execute_result"
    }
   ],
   "source": [
    "########################################\n",
    "## simple consecutive pairs challenge ##\n",
    "########################################\n",
    "\n",
    "def pairs(arr):\n",
    "    if len(arr) % 2 == 1:\n",
    "        arr = arr[0:-1]\n",
    "    count = 0\n",
    "    for i in range(0,len(arr),2):\n",
    "        first = arr[i]\n",
    "        second = arr[i+1]\n",
    "        if first - second == -1 or first-second == 1:\n",
    "        #if first+1==second or first-1==second:\n",
    "            count += 1\n",
    "    return count\n",
    "\n",
    "pairs([1,2,5,8,-4,-3,7,6,5])"
   ]
  },
  {
   "cell_type": "code",
   "execution_count": 292,
   "metadata": {},
   "outputs": [],
   "source": [
    "pairs = [1,2,5,8,-4,-3,7,6,5]"
   ]
  },
  {
   "cell_type": "code",
   "execution_count": null,
   "metadata": {},
   "outputs": [],
   "source": [
    "############################\n",
    "## rectangle into squares ##\n",
    "############################\n",
    "\n"
   ]
  },
  {
   "cell_type": "code",
   "execution_count": 396,
   "metadata": {},
   "outputs": [
    {
     "name": "stdout",
     "output_type": "stream",
     "text": [
      "[6, 4, 2, 2]\n"
     ]
    }
   ],
   "source": [
    "def sort_sides(lng,wdth):\n",
    "    return sorted([lng,wdth])\n",
    "\n",
    "def sqInRect(lng,wdth):\n",
    "    if lng==wdth:\n",
    "        return None\n",
    "    small, large = sort_sides(lng,wdth)\n",
    "    #print('small',small,'large',large)\n",
    "    squares = []\n",
    "    while small > 0:\n",
    "        squares.append(small)\n",
    "        new_side = large - small\n",
    "        small, large = sort_sides(new_side,small)\n",
    "    return squares\n",
    "    \n",
    "print(sqInRect(10,6))"
   ]
  },
  {
   "cell_type": "code",
   "execution_count": null,
   "metadata": {},
   "outputs": [],
   "source": [
    "##############################################\n",
    "## write function that extracts song lyrics ##\n",
    "##############################################\n",
    "\n"
   ]
  },
  {
   "cell_type": "code",
   "execution_count": 358,
   "metadata": {},
   "outputs": [],
   "source": [
    "song = \"WUBWEWUBAREWUBWUBTHEWUBCHAMPIONSWUBMYWUBFRIENDWUB\"\n",
    "new_song = song.split('WUB') #split on the wubs\n",
    "new_song"
   ]
  },
  {
   "cell_type": "code",
   "execution_count": 372,
   "metadata": {},
   "outputs": [
    {
     "name": "stdout",
     "output_type": "stream",
     "text": [
      " WE ARE  THE CHAMPIONS MY FRIEND \n"
     ]
    }
   ],
   "source": [
    "print(' '.join(new_song))"
   ]
  },
  {
   "cell_type": "code",
   "execution_count": 383,
   "metadata": {},
   "outputs": [
    {
     "name": "stdout",
     "output_type": "stream",
     "text": [
      "words ['WE', 'ARE', 'THE', 'CHAMPIONS', 'MY', 'FRIEND']\n",
      "WE ARE THE CHAMPIONS MY FRIEND\n"
     ]
    }
   ],
   "source": [
    "new_song = song.split('WUB')\n",
    "words = []\n",
    "for chunk in new_song:\n",
    "    if chunk == '':\n",
    "        continue\n",
    "    words.append(chunk)\n",
    "print('words',words)\n",
    "print(' '.join(words))"
   ]
  },
  {
   "cell_type": "code",
   "execution_count": null,
   "metadata": {},
   "outputs": [],
   "source": []
  },
  {
   "cell_type": "code",
   "execution_count": null,
   "metadata": {},
   "outputs": [],
   "source": []
  }
 ],
 "metadata": {
  "kernelspec": {
   "display_name": "Python 3",
   "language": "python",
   "name": "python3"
  },
  "language_info": {
   "codemirror_mode": {
    "name": "ipython",
    "version": 3
   },
   "file_extension": ".py",
   "mimetype": "text/x-python",
   "name": "python",
   "nbconvert_exporter": "python",
   "pygments_lexer": "ipython3",
   "version": "3.7.4"
  }
 },
 "nbformat": 4,
 "nbformat_minor": 2
}
