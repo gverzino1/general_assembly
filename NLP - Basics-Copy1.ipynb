{
 "cells": [
  {
   "cell_type": "code",
   "execution_count": 1,
   "metadata": {},
   "outputs": [],
   "source": [
    "from sklearn.feature_extraction.text import CountVectorizer"
   ]
  },
  {
   "cell_type": "code",
   "execution_count": 12,
   "metadata": {},
   "outputs": [],
   "source": [
    "# BAGW model, 1. tokenizes each word (tokenizing)\n",
    "# 2. counts frequency of each word across sentences (counting)\n",
    "# 3. drops any words that aren't used in another sentence (normalizing)\n",
    "# 4. puts (2) and (3) into a matrix, with only 1s and 0s\n",
    "\n",
    "# ignores position information of the words\n",
    "\n",
    "# train_x will be your corpus\n",
    "\n",
    "train_x = ['I love the book','this is a great book','this fit is great','I love the book']\n"
   ]
  },
  {
   "cell_type": "code",
   "execution_count": 17,
   "metadata": {},
   "outputs": [
    {
     "name": "stdout",
     "output_type": "stream",
     "text": [
      "['book', 'fit', 'great', 'is', 'love', 'the', 'this']\n",
      "\n",
      "\n",
      "[[1 0 0 0 1 1 0]\n",
      " [1 0 1 1 0 0 1]\n",
      " [0 1 1 1 0 0 1]\n",
      " [1 0 0 0 1 1 0]]\n"
     ]
    }
   ],
   "source": [
    "vectorizer = CountVectorizer()  #could add binary=True, ngram_range=(1,2) to inside paranthesis to look at two words\n",
    "train_x_vectors = vectorizer.fit_transform(train_x) # fits dictionary around corpus\n",
    "\n",
    "print(vectorizer.get_feature_names())\n",
    "print('\\n')\n",
    "\n",
    "print(vectors.toarray())  # now you can see words and vectors for each sentence"
   ]
  },
  {
   "cell_type": "code",
   "execution_count": 16,
   "metadata": {},
   "outputs": [],
   "source": [
    "class category:\n",
    "    books = 'books'\n",
    "    clothing = 'clothing'\n",
    "train_x = ['I love the book','this is a great book','this fit is great','I love the book']\n",
    "train_y = [category.books,category.books,category.clothing,category.clothing]"
   ]
  },
  {
   "cell_type": "code",
   "execution_count": 18,
   "metadata": {},
   "outputs": [
    {
     "data": {
      "text/plain": [
       "SVC(C=1.0, cache_size=200, class_weight=None, coef0=0.0,\n",
       "    decision_function_shape='ovr', degree=3, gamma='auto_deprecated',\n",
       "    kernel='linear', max_iter=-1, probability=False, random_state=None,\n",
       "    shrinking=True, tol=0.001, verbose=False)"
      ]
     },
     "execution_count": 18,
     "metadata": {},
     "output_type": "execute_result"
    }
   ],
   "source": [
    "# build simple classifier to use it on new corpuses\n",
    "# knew to use SVM and linear model -- not sure why\n",
    "\n",
    "from sklearn import svm\n",
    "clf_svm = svm.SVC(kernel='linear')\n",
    "clf_svm.fit(train_x_vectors, train_y)"
   ]
  },
  {
   "cell_type": "code",
   "execution_count": 31,
   "metadata": {},
   "outputs": [],
   "source": [
    "test_x = vectorizer.transform(['shoes are alright now'])\n",
    "clf_svm.predict(test_x)"
   ]
  },
  {
   "cell_type": "code",
   "execution_count": 89,
   "metadata": {},
   "outputs": [
    {
     "name": "stdout",
     "output_type": "stream",
     "text": [
      "['i love bi grams dont you know thats all i really knew cmon man ']\n"
     ]
    }
   ],
   "source": [
    "import re\n",
    "\n",
    "corpus = ['I love bi-grams, dont you know!? Thats all I really knew? Cmon man.']\n",
    "\n",
    "for i in range(len(corpus)):\n",
    "    corpus[i] = corpus[i].lower()\n",
    "    corpus[i] = re.sub(r'\\W',' ',corpus[i]) #removes punctuation\n",
    "    corpus[i] = re.sub(r'\\s+',' ',corpus[i]) #removes spaces\n",
    "print(corpus)"
   ]
  },
  {
   "cell_type": "code",
   "execution_count": 63,
   "metadata": {},
   "outputs": [],
   "source": [
    "# Word Vectors are better because capture semantic meaning of a word in a vector\n",
    "\n",
    "import spacy"
   ]
  },
  {
   "cell_type": "code",
   "execution_count": null,
   "metadata": {},
   "outputs": [],
   "source": []
  },
  {
   "cell_type": "code",
   "execution_count": null,
   "metadata": {},
   "outputs": [],
   "source": []
  },
  {
   "cell_type": "code",
   "execution_count": null,
   "metadata": {},
   "outputs": [],
   "source": []
  }
 ],
 "metadata": {
  "kernelspec": {
   "display_name": "Python 3",
   "language": "python",
   "name": "python3"
  },
  "language_info": {
   "codemirror_mode": {
    "name": "ipython",
    "version": 3
   },
   "file_extension": ".py",
   "mimetype": "text/x-python",
   "name": "python",
   "nbconvert_exporter": "python",
   "pygments_lexer": "ipython3",
   "version": "3.7.4"
  }
 },
 "nbformat": 4,
 "nbformat_minor": 2
}
