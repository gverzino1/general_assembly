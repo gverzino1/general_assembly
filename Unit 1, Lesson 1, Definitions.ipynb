{
 "cells": [
  {
   "cell_type": "markdown",
   "metadata": {},
   "source": [
    "Craft good questions using SMART\n",
    "\n",
    "- Specific - define data set/key variables\n",
    "- Measurable - define assumptions\n",
    "- Attainable - can you get unbiased data\n",
    "- Reproducible - can someone else do it\n",
    "- Time-Bound - time period/population"
   ]
  },
  {
   "cell_type": "markdown",
   "metadata": {},
   "source": [
    "Steps in the Data Science Workflow\n",
    "\n",
    "- Frame: Hypothesis\n",
    "- Prepare: Import, Explore\n",
    "Perform filtering, sorting, visualizations\n",
    "Assess outliers, nulls, missing data, trends\n",
    "Format and clean (e.g. dates, number signs, formatting)\n",
    "Perform any categorization, manipulation, slicing, formating\n",
    "\n",
    "- Analyze: Structure, Visualize\n",
    "Perform summary statistics\n",
    "Create a predictive model\n",
    "\n",
    "- Interpret: Derive recommendations\n",
    "Did you reject your hypothesis?\n",
    "Where your initial questions answered?\n",
    "Do your findings support any business recommendations/actions/decisions?\n",
    "\n",
    "- Communicate: Present EDITED insights\n",
    "To form a conclusion, reach out to SME (subject matter experts)\n",
    "\n",
    "\n",
    "These steps are - iterative, cyclical, (for some projects) may not be required"
   ]
  },
  {
   "cell_type": "markdown",
   "metadata": {},
   "source": [
    "MACHINE LEARNING\n",
    "\n",
    "SUPERVISED:\n",
    "Predicting an OUTCOME. Requires past data. Attempts to generalize\n",
    "CONS: Since outcome clear, may optimize metrics not practical for business.\n",
    "    - Classification - predict a CATEGORICAL value (i.e. death, cancer type)\n",
    "    - Regression - predict a CONTINUOUS value (i.e. blood pressure, income)\n",
    "Ex: \"Provide features of coin, predict coin type\"\n",
    "    \n",
    "UNSUPERVISED:\n",
    "Attempt to represent, structure data.\n",
    "CONS: Goals can be amporphous.\n",
    "    - Clustering - group together on similar features\n",
    "    - Dimensionality Reduction - when too many features, shows most important\n",
    "Ex: \"Understand the types of customers that exist\"  \n",
    "  "
   ]
  }
 ],
 "metadata": {
  "kernelspec": {
   "display_name": "Python 3",
   "language": "python",
   "name": "python3"
  },
  "language_info": {
   "codemirror_mode": {
    "name": "ipython",
    "version": 3
   },
   "file_extension": ".py",
   "mimetype": "text/x-python",
   "name": "python",
   "nbconvert_exporter": "python",
   "pygments_lexer": "ipython3",
   "version": "3.7.4"
  }
 },
 "nbformat": 4,
 "nbformat_minor": 2
}
