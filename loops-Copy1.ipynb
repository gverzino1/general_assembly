{
 "cells": [
  {
   "cell_type": "code",
   "execution_count": 3,
   "metadata": {},
   "outputs": [],
   "source": [
    "import pandas as pd\n",
    "import numpy as np\n",
    "import scipy as py"
   ]
  },
  {
   "cell_type": "code",
   "execution_count": 26,
   "metadata": {},
   "outputs": [],
   "source": [
    "a = ['banana','apple','mircosoft']"
   ]
  },
  {
   "cell_type": "code",
   "execution_count": 29,
   "metadata": {},
   "outputs": [
    {
     "name": "stdout",
     "output_type": "stream",
     "text": [
      "banana\n",
      "apple\n",
      "mircosoft\n"
     ]
    }
   ],
   "source": [
    "for element in a:\n",
    "    print(element)"
   ]
  },
  {
   "cell_type": "code",
   "execution_count": 22,
   "metadata": {},
   "outputs": [
    {
     "name": "stdout",
     "output_type": "stream",
     "text": [
      "35\n"
     ]
    }
   ],
   "source": [
    "b = [20,10,5]\n",
    "total = 0\n",
    "for element in b:\n",
    "    total += element\n",
    "print(total)"
   ]
  },
  {
   "cell_type": "code",
   "execution_count": 30,
   "metadata": {},
   "outputs": [
    {
     "name": "stdout",
     "output_type": "stream",
     "text": [
      "10\n"
     ]
    }
   ],
   "source": [
    "total = 0\n",
    "for i in list(range(1,5)):\n",
    "    total += i \n",
    "print(total)"
   ]
  },
  {
   "cell_type": "code",
   "execution_count": 38,
   "metadata": {},
   "outputs": [
    {
     "name": "stdout",
     "output_type": "stream",
     "text": [
      "315\n"
     ]
    }
   ],
   "source": [
    "total1 = 0\n",
    "for i in list(range(1,100,1)):\n",
    "    if i%3 ==0 and i%5==0:\n",
    "        total1 += i\n",
    "print(total1)"
   ]
  },
  {
   "cell_type": "code",
   "execution_count": 52,
   "metadata": {},
   "outputs": [
    {
     "name": "stdout",
     "output_type": "stream",
     "text": [
      "45\n"
     ]
    }
   ],
   "source": [
    "total2 = 0 \n",
    "i = 1\n",
    "while i < 10:\n",
    "    total2 += i\n",
    "    i += 1\n",
    "print(total2)"
   ]
  },
  {
   "cell_type": "code",
   "execution_count": 67,
   "metadata": {},
   "outputs": [],
   "source": [
    "list = [5,4,4,3,1,-2,-3,-5]"
   ]
  },
  {
   "cell_type": "code",
   "execution_count": 68,
   "metadata": {},
   "outputs": [
    {
     "name": "stdout",
     "output_type": "stream",
     "text": [
      "17\n"
     ]
    }
   ],
   "source": [
    "total = 0\n",
    "i = 0\n",
    "while list[i] > 0:\n",
    "    total += list[i]\n",
    "    i += 1\n",
    "print(total)"
   ]
  },
  {
   "cell_type": "code",
   "execution_count": 69,
   "metadata": {},
   "outputs": [
    {
     "name": "stdout",
     "output_type": "stream",
     "text": [
      "17\n"
     ]
    }
   ],
   "source": [
    "total = 0\n",
    "for element in list:\n",
    "    if element <= 0:\n",
    "        break\n",
    "    total += element\n",
    "print(total)"
   ]
  },
  {
   "cell_type": "code",
   "execution_count": 71,
   "metadata": {},
   "outputs": [
    {
     "name": "stdout",
     "output_type": "stream",
     "text": [
      "17\n"
     ]
    }
   ],
   "source": [
    "total = 0\n",
    "i = 0\n",
    "while True:\n",
    "    total += list[i]\n",
    "    i += 1\n",
    "    if list[i] <= 0:\n",
    "        break\n",
    "print(total)"
   ]
  },
  {
   "cell_type": "code",
   "execution_count": 1,
   "metadata": {},
   "outputs": [],
   "source": [
    "# sum of two smallest numbers\n",
    "\n",
    "list = [5,8,-2,4,-10,8,7]\n",
    "\n",
    "def lowest_sum(numbers):\n",
    "    sorted_list = sorted(numbers)\n",
    "    take_lowest_2 = sorted_list[:2]\n",
    "    for numbers in take_lowest_2:\n",
    "        return sum(take_lowest_2)\n",
    "\n",
    "lowest_sum(list)"
   ]
  },
  {
   "cell_type": "code",
   "execution_count": 34,
   "metadata": {},
   "outputs": [
    {
     "data": {
      "text/plain": [
       "(8, -10)"
      ]
     },
     "execution_count": 34,
     "metadata": {},
     "output_type": "execute_result"
    }
   ],
   "source": [
    "# return the highest and lowest number\n",
    "\n",
    "def high_low(numbers):\n",
    "    sorted_list = sorted(numbers)\n",
    "    for number in sorted_list:\n",
    "        return max(sorted_list),min(sorted_list)\n",
    "\n",
    "high_low(list)"
   ]
  },
  {
   "cell_type": "code",
   "execution_count": 35,
   "metadata": {},
   "outputs": [],
   "source": [
    "# same as above, but what if you had a list of strings?\n",
    "\n",
    "new_list = '1 4 5 3 -2 -17'"
   ]
  },
  {
   "cell_type": "code",
   "execution_count": 61,
   "metadata": {},
   "outputs": [
    {
     "data": {
      "text/plain": [
       "'This is the min: -17, And this is the max: 5'"
      ]
     },
     "execution_count": 61,
     "metadata": {},
     "output_type": "execute_result"
    }
   ],
   "source": [
    "numbers = []\n",
    "def new_high_low(number):\n",
    "    new_split = number.split()\n",
    "    for n in new_split:\n",
    "        n = int(n)\n",
    "        numbers.append(n)\n",
    "        for splits in numbers:\n",
    "            sorted_list = sorted(numbers)\n",
    "    return 'This is the min: ' + str(sorted_list[0]) + ', And this is the max: '+ str(sorted_list[-1])\n",
    "    #return sorted_list[0],sorted_list[-1]  #alternative return\n",
    "\n",
    "    \n",
    "new_high_low(new_list)"
   ]
  },
  {
   "cell_type": "code",
   "execution_count": 41,
   "metadata": {},
   "outputs": [
    {
     "data": {
      "text/plain": [
       "['-17', '-2', '1', '3', '4', '5']"
      ]
     },
     "execution_count": 41,
     "metadata": {},
     "output_type": "execute_result"
    }
   ],
   "source": [
    "sorted(new_list.split())"
   ]
  },
  {
   "cell_type": "code",
   "execution_count": 63,
   "metadata": {},
   "outputs": [],
   "source": [
    "# determine how many consecutive pairs there are\n",
    "\n",
    "list = [1,2,5,8,-4,-3,7,6,5]"
   ]
  },
  {
   "cell_type": "code",
   "execution_count": 78,
   "metadata": {},
   "outputs": [
    {
     "data": {
      "text/plain": [
       "3"
      ]
     },
     "execution_count": 78,
     "metadata": {},
     "output_type": "execute_result"
    }
   ],
   "source": [
    "def pairs(arr):\n",
    "    if len(arr)%2==1:\n",
    "        arr = sorted(arr)[0:-1]\n",
    "        count = 0\n",
    "        for i in range(0,len(arr),2):\n",
    "            first_arr = arr[i]\n",
    "            second_arr = arr[i + 1]\n",
    "            if first_arr + 1 == second_arr or first_arr - 1 == second_arr:\n",
    "                count += 1\n",
    "        return count\n",
    "            \n",
    "\n",
    "pairs(list)\n",
    "        "
   ]
  },
  {
   "cell_type": "code",
   "execution_count": 74,
   "metadata": {},
   "outputs": [
    {
     "data": {
      "text/plain": [
       "range(0, 9, 2)"
      ]
     },
     "execution_count": 74,
     "metadata": {},
     "output_type": "execute_result"
    }
   ],
   "source": [
    "range(0,len(list),2)"
   ]
  },
  {
   "cell_type": "code",
   "execution_count": 82,
   "metadata": {},
   "outputs": [
    {
     "name": "stdout",
     "output_type": "stream",
     "text": [
      "Enter a whole number10\n",
      "0\n",
      "2\n",
      "4\n",
      "6\n",
      "8\n"
     ]
    }
   ],
   "source": [
    "repeat = input(\"Enter a whole number\")\n",
    "repeat = int(repeat)\n",
    "\n",
    "for i in range(0,repeat,2):\n",
    "    print(i)"
   ]
  },
  {
   "cell_type": "code",
   "execution_count": 85,
   "metadata": {},
   "outputs": [
    {
     "data": {
      "text/plain": [
       "'god yzal eht revo spmuj xof eht'"
      ]
     },
     "execution_count": 85,
     "metadata": {},
     "output_type": "execute_result"
    }
   ],
   "source": [
    "string = \"the fox jumps over the lazy dog\"\n",
    "string[::-1]"
   ]
  },
  {
   "cell_type": "code",
   "execution_count": null,
   "metadata": {},
   "outputs": [],
   "source": [
    "sentence = \"Lol, this is a gag, I didn't laugh so much in a long time\""
   ]
  },
  {
   "cell_type": "code",
   "execution_count": 121,
   "metadata": {},
   "outputs": [
    {
     "data": {
      "text/plain": [
       "['gag', 'lol']"
      ]
     },
     "execution_count": 121,
     "metadata": {},
     "output_type": "execute_result"
    }
   ],
   "source": [
    "def isPalindrome(word):\n",
    "    if word==word[::-1] and len(word) != 1:\n",
    "        return True\n",
    "    return False\n",
    "\n",
    "def cleanPalindrome(input_str):\n",
    "    clean_str = input_str.replace(\",\",\"\").lower()\n",
    "    words = set(clean_str.split(\" \"))\n",
    "    wPalindromes = [\n",
    "        word for word in words\n",
    "        if isPalindrome(word) and word != \"\"\n",
    "    ]\n",
    "    return wPalindromes\n",
    "\n",
    "cleanPalindrome(sentence)"
   ]
  },
  {
   "cell_type": "code",
   "execution_count": 96,
   "metadata": {},
   "outputs": [
    {
     "data": {
      "text/plain": [
       "\"lol this is a gag i didn't laugh so much in a long time\""
      ]
     },
     "execution_count": 96,
     "metadata": {},
     "output_type": "execute_result"
    }
   ],
   "source": [
    "sentence.replace(\",\",\"\").lower()"
   ]
  },
  {
   "cell_type": "code",
   "execution_count": 120,
   "metadata": {},
   "outputs": [
    {
     "data": {
      "text/plain": [
       "False"
      ]
     },
     "execution_count": 120,
     "metadata": {},
     "output_type": "execute_result"
    }
   ],
   "source": [
    "list = 'a'\n",
    "list1 = 'lol'\n",
    "\n",
    "def kaylee(word):\n",
    "    if word == word[::-1] and len(word) != 1 :\n",
    "        return True\n",
    "    return False\n",
    "\n",
    "kaylee(list)"
   ]
  },
  {
   "cell_type": "code",
   "execution_count": 458,
   "metadata": {},
   "outputs": [
    {
     "name": "stdout",
     "output_type": "stream",
     "text": [
      "1\n",
      "fizz\n",
      "buzz\n",
      "fizz\n",
      "5\n",
      "fizzbuzz\n",
      "7\n",
      "fizz\n",
      "buzz\n",
      "fizz\n"
     ]
    }
   ],
   "source": [
    "# write program that prints number 1 - 10\n",
    "# for multiple of 2 print fizz\n",
    "# for multiple of 3 print buzz\n",
    "# for multiple of 2 and 3 print fizzbuzz\n",
    "\n",
    "def fizzbuzz(number):\n",
    "    fizz = (number % 2 == 0)\n",
    "    buzz = (number % 3 == 0) #assign these variables and reuse them\n",
    "    if (fizz or buzz):\n",
    "        return (fizz * 'fizz') + (buzz * 'buzz') #return fizz, buzz or fizzbuzz\n",
    "                                                 #but right now these are ints\n",
    "    return str(number)                           #now you can return as strings\n",
    "\n",
    "print('\\n'.join([fizzbuzz(x) for x in range(1,11)])) #requires brackets for string\n",
    "\n",
    "# the \\n breaks up on new lines)"
   ]
  },
  {
   "cell_type": "code",
   "execution_count": 66,
   "metadata": {},
   "outputs": [
    {
     "data": {
      "text/plain": [
       "\"lol you're such a dad, you old pup\""
      ]
     },
     "execution_count": 66,
     "metadata": {},
     "output_type": "execute_result"
    }
   ],
   "source": [
    "# find palindrome in sentence\n",
    "\n",
    "string = \"lol you're such a dad, you old pup\""
   ]
  },
  {
   "cell_type": "code",
   "execution_count": 113,
   "metadata": {},
   "outputs": [
    {
     "data": {
      "text/plain": [
       "['lol', \"you're\", 'such', 'a', 'dad,', 'you', 'old', 'pup']"
      ]
     },
     "execution_count": 113,
     "metadata": {},
     "output_type": "execute_result"
    }
   ],
   "source": [
    "string.split(\" \")"
   ]
  },
  {
   "cell_type": "code",
   "execution_count": 112,
   "metadata": {},
   "outputs": [
    {
     "data": {
      "text/plain": [
       "['pup', 'lol']"
      ]
     },
     "execution_count": 112,
     "metadata": {},
     "output_type": "execute_result"
    }
   ],
   "source": [
    "def palindrome(word):\n",
    "    if word == word[::-1] and len(word) != 1:\n",
    "        return True\n",
    "    return False\n",
    "\n",
    "def clean_palindrome(str_word):\n",
    "    word1 = str_word.replace(\"'\",\"\")\n",
    "    word2 = set(word1.split(\" \"))\n",
    "    word_set = [\n",
    "        word for word in word2 \n",
    "        if palindrome(word) and word != \"\"\n",
    "    ]\n",
    "    return word_set\n",
    "        \n",
    "    \n",
    "clean_palindrome(string)"
   ]
  },
  {
   "cell_type": "code",
   "execution_count": 231,
   "metadata": {},
   "outputs": [
    {
     "data": {
      "text/plain": [
       "['lol', 'you']"
      ]
     },
     "execution_count": 231,
     "metadata": {},
     "output_type": "execute_result"
    }
   ],
   "source": [
    "# can you just return the first and third word in a sentence\n",
    "# that also has 3 letters only\n",
    "\n",
    "string = \"lol you're such a dad, you old pup\"\n",
    "\n",
    "import re\n",
    "\n",
    "def new_func(word):\n",
    "    if len(word)==3:\n",
    "        return True\n",
    "    return False\n",
    "\n",
    "def clean_word(word):\n",
    "    regex = re.sub('[^a-zA-Z ]','',string)\n",
    "    new_list = regex.split(\" \")\n",
    "    ending = [\n",
    "        word for word in new_list\n",
    "        if new_func(word)\n",
    "    ]\n",
    "    return [ending[0],ending[2]]\n",
    "\n",
    "\n",
    "\n",
    "clean_word(string)\n"
   ]
  },
  {
   "cell_type": "code",
   "execution_count": 233,
   "metadata": {},
   "outputs": [],
   "source": [
    "#return part of list that's less than zero\n",
    "\n",
    "lists = [0,-2,3,-9,8,0,6,-27,89,-4]\n",
    "[i for i in lists if i < 0]"
   ]
  },
  {
   "cell_type": "code",
   "execution_count": 2,
   "metadata": {},
   "outputs": [],
   "source": [
    "# find the first duplicate word (so that second wonder)\n",
    "string = \"this is just a wonder, wonder why do I have this in mind\""
   ]
  },
  {
   "cell_type": "code",
   "execution_count": 3,
   "metadata": {},
   "outputs": [
    {
     "data": {
      "text/plain": [
       "['this',\n",
       " 'is',\n",
       " 'just',\n",
       " 'a',\n",
       " 'wonder',\n",
       " 'wonder',\n",
       " 'why',\n",
       " 'do',\n",
       " 'I',\n",
       " 'have',\n",
       " 'this',\n",
       " 'in',\n",
       " 'mind']"
      ]
     },
     "execution_count": 3,
     "metadata": {},
     "output_type": "execute_result"
    }
   ],
   "source": [
    "import re\n",
    "regex = re.sub('[^a-zA-Z] ',' ',string)\n",
    "regex.split(' ')\n"
   ]
  },
  {
   "cell_type": "code",
   "execution_count": 274,
   "metadata": {},
   "outputs": [
    {
     "data": {
      "text/plain": [
       "True"
      ]
     },
     "execution_count": 274,
     "metadata": {},
     "output_type": "execute_result"
    }
   ],
   "source": [
    "regex.split(' ')[4] == regex.split(' ')[5]"
   ]
  },
  {
   "cell_type": "code",
   "execution_count": 433,
   "metadata": {},
   "outputs": [
    {
     "data": {
      "text/plain": [
       "'wonder'"
      ]
     },
     "execution_count": 433,
     "metadata": {},
     "output_type": "execute_result"
    }
   ],
   "source": [
    "def clean_str(string):\n",
    "    import re\n",
    "    regex = re.sub('[^a-zA-Z] ',' ',string)\n",
    "    regex_split = regex.split(' ')\n",
    "    \n",
    "    dupe_words = set()\n",
    "    for word in regex_split:\n",
    "        if word in dupe_words:\n",
    "            return word\n",
    "        else:\n",
    "            dupe_words.add(word)\n",
    "    return None\n",
    "\n",
    "clean_str(string)"
   ]
  },
  {
   "cell_type": "code",
   "execution_count": 435,
   "metadata": {},
   "outputs": [
    {
     "name": "stdout",
     "output_type": "stream",
     "text": [
      "2 fizz\n",
      "3 buds\n",
      "4 fizz\n",
      "6 fizzbuds\n",
      "8 fizz\n",
      "9 buds\n"
     ]
    }
   ],
   "source": [
    "### fizz buzz, through 50\n",
    "## if divisible by 2, fizz\n",
    "## if divisible by 3, buds\n",
    "## if divisible by 2 or 3, fizzbuds\n",
    "\n",
    "for i in range(1,10):\n",
    "    fizz = i % 2 == 0\n",
    "    buds = i % 3 == 0\n",
    "    if fizz or buds:\n",
    "        print (i,((fizz*'fizz')+(buds*'buds')))\n",
    "        \n"
   ]
  },
  {
   "cell_type": "code",
   "execution_count": 470,
   "metadata": {},
   "outputs": [
    {
     "name": "stdout",
     "output_type": "stream",
     "text": [
      "1\n",
      "fizz\n",
      "buds\n",
      "fizz\n",
      "5\n",
      "fizzbuds\n",
      "7\n",
      "fizz\n",
      "buds\n",
      "fizz\n",
      "11\n",
      "fizzbuds\n",
      "13\n",
      "fizz\n"
     ]
    }
   ],
   "source": [
    "def fizz_buds(number):\n",
    "    fizz = number % 2 == 0\n",
    "    buds = number % 3 == 0\n",
    "    if (fizz or buds):\n",
    "        return (fizz * 'fizz') + (buds * 'buds')\n",
    "    \n",
    "    return str(number)\n",
    "    \n",
    "print('\\n'.join([fizz_buds(x) for x in range(1,15)]))\n",
    "\n",
    "\n"
   ]
  },
  {
   "cell_type": "code",
   "execution_count": 501,
   "metadata": {},
   "outputs": [
    {
     "data": {
      "text/plain": [
       "[1.0, [1.0, [1.0, [1.0, [0.25, [0.05, [0.01, [0.01, 0.01]]]]]]]]"
      ]
     },
     "execution_count": 501,
     "metadata": {},
     "output_type": "execute_result"
    }
   ],
   "source": [
    "# COIN MACHINE PROBLEM\n",
    "# you have an amount of change to make\n",
    "# and you have coins\n",
    "# return the fewest coins you need\n",
    "\n",
    "# 4.33 change\n",
    "\n",
    "def return_change(to_return, coins = [ 0.01, 0.05, 0.10, 0.25, 1.0, 5.0]):\n",
    "    flag = None\n",
    "    for c in coins:\n",
    "        if c == to_return: return c\n",
    "        if c < to_return:\n",
    "            flag = c\n",
    "    temp_balance = round(to_return - flag, 2)\n",
    "    return [flag] + [return_change(temp_balance)]\n",
    "\n",
    "\n",
    "result = return_change(4.33)\n",
    "\n",
    "result"
   ]
  },
  {
   "cell_type": "code",
   "execution_count": 578,
   "metadata": {},
   "outputs": [
    {
     "name": "stdout",
     "output_type": "stream",
     "text": [
      "The number of coins for 36 cents are:\n",
      "quarters:  1\n",
      "dimes:  1\n",
      "nickels:  0\n",
      "pennies:  1\n"
     ]
    }
   ],
   "source": [
    "# get the number of coins\n",
    "\n",
    "def coin_change(cents):\n",
    "    quarter = cents // 25\n",
    "    dime = cents % 25 // 10\n",
    "    nickel = cents % 25 % 10 // 5\n",
    "    penny = cents % 5\n",
    "    \n",
    "    print('The number of coins for', cents, \"cents are:\")\n",
    "    print( \"quarters: \", quarter)\n",
    "    print (\"dimes: \", dime)\n",
    "    print (\"nickels: \", nickel)\n",
    "    print (\"pennies: \", penny)\n",
    "    \n",
    "\n",
    "\n",
    "coin_change(36)\n",
    "\n"
   ]
  },
  {
   "cell_type": "code",
   "execution_count": null,
   "metadata": {},
   "outputs": [],
   "source": [
    "# return the number of subsets that can add to given number\n",
    "# no duplicates are given, no zero's, no negative numbers"
   ]
  },
  {
   "cell_type": "code",
   "execution_count": 586,
   "metadata": {},
   "outputs": [
    {
     "name": "stdout",
     "output_type": "stream",
     "text": [
      "22\n"
     ]
    }
   ],
   "source": [
    "list = [2,4,6,10]\n",
    "total = 0\n",
    "for i in list:\n",
    "    total += i\n",
    "print(total)"
   ]
  },
  {
   "cell_type": "code",
   "execution_count": 597,
   "metadata": {},
   "outputs": [
    {
     "ename": "AttributeError",
     "evalue": "'list' object has no attribute 'length'",
     "output_type": "error",
     "traceback": [
      "\u001b[1;31m---------------------------------------------------------------------------\u001b[0m",
      "\u001b[1;31mAttributeError\u001b[0m                            Traceback (most recent call last)",
      "\u001b[1;32m<ipython-input-597-7ce6473509fb>\u001b[0m in \u001b[0;36m<module>\u001b[1;34m\u001b[0m\n\u001b[0;32m     18\u001b[0m         \u001b[1;32mreturn\u001b[0m \u001b[0mrec\u001b[0m\u001b[1;33m(\u001b[0m\u001b[0marr\u001b[0m\u001b[1;33m,\u001b[0m\u001b[0mtotal\u001b[0m \u001b[1;33m-\u001b[0m \u001b[0marr\u001b[0m\u001b[1;33m[\u001b[0m\u001b[0mi\u001b[0m\u001b[1;33m]\u001b[0m\u001b[1;33m,\u001b[0m \u001b[0mi\u001b[0m\u001b[1;33m-\u001b[0m\u001b[1;36m1\u001b[0m\u001b[1;33m)\u001b[0m \u001b[1;33m+\u001b[0m \u001b[0mrec\u001b[0m\u001b[1;33m(\u001b[0m\u001b[0marr\u001b[0m\u001b[1;33m,\u001b[0m \u001b[0mtotal\u001b[0m\u001b[1;33m,\u001b[0m \u001b[0mi\u001b[0m\u001b[1;33m-\u001b[0m\u001b[1;36m1\u001b[0m\u001b[1;33m)\u001b[0m\u001b[1;33m\u001b[0m\u001b[1;33m\u001b[0m\u001b[0m\n\u001b[0;32m     19\u001b[0m \u001b[1;33m\u001b[0m\u001b[0m\n\u001b[1;32m---> 20\u001b[1;33m \u001b[0mcount_sets\u001b[0m\u001b[1;33m(\u001b[0m\u001b[0marr\u001b[0m\u001b[1;33m,\u001b[0m\u001b[1;36m16\u001b[0m\u001b[1;33m)\u001b[0m\u001b[1;33m\u001b[0m\u001b[1;33m\u001b[0m\u001b[0m\n\u001b[0m\u001b[0;32m     21\u001b[0m \u001b[1;33m\u001b[0m\u001b[0m\n",
      "\u001b[1;32m<ipython-input-597-7ce6473509fb>\u001b[0m in \u001b[0;36mcount_sets\u001b[1;34m(arr, total)\u001b[0m\n\u001b[0;32m      3\u001b[0m \u001b[0marr\u001b[0m \u001b[1;33m=\u001b[0m \u001b[1;33m[\u001b[0m\u001b[1;36m2\u001b[0m\u001b[1;33m,\u001b[0m\u001b[1;36m4\u001b[0m\u001b[1;33m,\u001b[0m\u001b[1;36m6\u001b[0m\u001b[1;33m,\u001b[0m\u001b[1;36m10\u001b[0m\u001b[1;33m]\u001b[0m\u001b[1;33m\u001b[0m\u001b[1;33m\u001b[0m\u001b[0m\n\u001b[0;32m      4\u001b[0m \u001b[1;32mdef\u001b[0m \u001b[0mcount_sets\u001b[0m\u001b[1;33m(\u001b[0m\u001b[0marr\u001b[0m\u001b[1;33m,\u001b[0m \u001b[0mtotal\u001b[0m\u001b[1;33m)\u001b[0m\u001b[1;33m:\u001b[0m\u001b[1;33m\u001b[0m\u001b[1;33m\u001b[0m\u001b[0m\n\u001b[1;32m----> 5\u001b[1;33m     \u001b[1;32mreturn\u001b[0m \u001b[0mrec\u001b[0m\u001b[1;33m(\u001b[0m\u001b[0marr\u001b[0m\u001b[1;33m,\u001b[0m\u001b[0mtotal\u001b[0m\u001b[1;33m,\u001b[0m \u001b[0marr\u001b[0m\u001b[1;33m.\u001b[0m\u001b[0mlength\u001b[0m \u001b[1;33m-\u001b[0m \u001b[1;36m1\u001b[0m\u001b[1;33m)\u001b[0m\u001b[1;33m\u001b[0m\u001b[1;33m\u001b[0m\u001b[0m\n\u001b[0m\u001b[0;32m      6\u001b[0m \u001b[1;33m\u001b[0m\u001b[0m\n\u001b[0;32m      7\u001b[0m \u001b[1;31m# recursively add array up to total, for each element i\u001b[0m\u001b[1;33m\u001b[0m\u001b[1;33m\u001b[0m\u001b[1;33m\u001b[0m\u001b[0m\n",
      "\u001b[1;31mAttributeError\u001b[0m: 'list' object has no attribute 'length'"
     ]
    }
   ],
   "source": [
    "#number of subsets that add up to total amount\n",
    "\n",
    "arr = [2,4,6,10]\n",
    "def count_sets(arr, total):\n",
    "    return rec(arr,total, arr.length - 1)\n",
    "\n",
    "# recursively add array up to total, for each element i\n",
    "def rec(arr,total, i):\n",
    "    if total == 0:\n",
    "        return 1       #if total is 0, only empty set can be counted, so 1 set\n",
    "    elif total < 0:\n",
    "        return 0       #if total is < 0, then no sets are possible, so 0 sets\n",
    "    elif i < 0:\n",
    "        return 0       #if there are no numbers in array, then 0 sets possible\n",
    "    elif total < arr[i]:\n",
    "        return rec(arr,total,i-1)\n",
    "    else:\n",
    "        return rec(arr,total - arr[i], i-1) + rec(arr, total, i-1)\n",
    "\n",
    "count_sets(arr,16)\n",
    "\n"
   ]
  },
  {
   "cell_type": "code",
   "execution_count": 601,
   "metadata": {},
   "outputs": [
    {
     "ename": "TypeError",
     "evalue": "'set' object is not callable",
     "output_type": "error",
     "traceback": [
      "\u001b[1;31m---------------------------------------------------------------------------\u001b[0m",
      "\u001b[1;31mTypeError\u001b[0m                                 Traceback (most recent call last)",
      "\u001b[1;32m<ipython-input-601-3eb6d56893ee>\u001b[0m in \u001b[0;36m<module>\u001b[1;34m\u001b[0m\n\u001b[0;32m      8\u001b[0m     \u001b[1;32mreturn\u001b[0m \u001b[0marray\u001b[0m\u001b[1;33m[\u001b[0m\u001b[0msum\u001b[0m\u001b[1;33m]\u001b[0m\u001b[1;33m\u001b[0m\u001b[1;33m\u001b[0m\u001b[0m\n\u001b[0;32m      9\u001b[0m \u001b[1;33m\u001b[0m\u001b[0m\n\u001b[1;32m---> 10\u001b[1;33m \u001b[0mtotal_subsets_matching_sum\u001b[0m\u001b[1;33m(\u001b[0m\u001b[0mnumbers\u001b[0m\u001b[1;33m,\u001b[0m \u001b[1;36m9\u001b[0m\u001b[1;33m)\u001b[0m\u001b[1;33m\u001b[0m\u001b[1;33m\u001b[0m\u001b[0m\n\u001b[0m",
      "\u001b[1;32m<ipython-input-601-3eb6d56893ee>\u001b[0m in \u001b[0;36mtotal_subsets_matching_sum\u001b[1;34m(numbers, sum)\u001b[0m\n\u001b[0;32m      3\u001b[0m     \u001b[0marray\u001b[0m \u001b[1;33m=\u001b[0m \u001b[1;33m[\u001b[0m\u001b[1;36m1\u001b[0m\u001b[1;33m]\u001b[0m \u001b[1;33m+\u001b[0m \u001b[1;33m[\u001b[0m\u001b[1;36m0\u001b[0m\u001b[1;33m]\u001b[0m \u001b[1;33m*\u001b[0m \u001b[1;33m(\u001b[0m\u001b[0msum\u001b[0m\u001b[1;33m)\u001b[0m\u001b[1;33m\u001b[0m\u001b[1;33m\u001b[0m\u001b[0m\n\u001b[0;32m      4\u001b[0m     \u001b[1;32mfor\u001b[0m \u001b[0mcurrent_number\u001b[0m \u001b[1;32min\u001b[0m \u001b[0mnumbers\u001b[0m\u001b[1;33m:\u001b[0m\u001b[1;33m\u001b[0m\u001b[1;33m\u001b[0m\u001b[0m\n\u001b[1;32m----> 5\u001b[1;33m         \u001b[1;32mfor\u001b[0m \u001b[0mnum\u001b[0m \u001b[1;32min\u001b[0m \u001b[0mxrange\u001b[0m\u001b[1;33m(\u001b[0m\u001b[0msum\u001b[0m \u001b[1;33m-\u001b[0m \u001b[0mcurrent_number\u001b[0m\u001b[1;33m,\u001b[0m \u001b[1;33m-\u001b[0m\u001b[1;36m1\u001b[0m\u001b[1;33m,\u001b[0m \u001b[1;33m-\u001b[0m\u001b[1;36m1\u001b[0m\u001b[1;33m)\u001b[0m\u001b[1;33m:\u001b[0m\u001b[1;33m\u001b[0m\u001b[1;33m\u001b[0m\u001b[0m\n\u001b[0m\u001b[0;32m      6\u001b[0m             \u001b[1;32mif\u001b[0m \u001b[0marray\u001b[0m\u001b[1;33m[\u001b[0m\u001b[0mnum\u001b[0m\u001b[1;33m]\u001b[0m\u001b[1;33m:\u001b[0m\u001b[1;33m\u001b[0m\u001b[1;33m\u001b[0m\u001b[0m\n\u001b[0;32m      7\u001b[0m                 \u001b[0marray\u001b[0m\u001b[1;33m[\u001b[0m\u001b[0mnum\u001b[0m \u001b[1;33m+\u001b[0m \u001b[0mcurrent_number\u001b[0m\u001b[1;33m]\u001b[0m \u001b[1;33m+=\u001b[0m \u001b[0marray\u001b[0m\u001b[1;33m[\u001b[0m\u001b[0mnum\u001b[0m\u001b[1;33m]\u001b[0m\u001b[1;33m\u001b[0m\u001b[1;33m\u001b[0m\u001b[0m\n",
      "\u001b[1;31mTypeError\u001b[0m: 'set' object is not callable"
     ]
    }
   ],
   "source": [
    "numbers = [1, 3, 2, 5, 4, 9]\n",
    "def total_subsets_matching_sum(numbers, sum):\n",
    "    array = [1] + [0] * (sum)\n",
    "    for current_number in numbers:\n",
    "        for num in xrange(sum - current_number, -1, -1):\n",
    "            if array[num]:\n",
    "                array[num + current_number] += array[num]\n",
    "    return array[sum]\n",
    "\n",
    "total_subsets_matching_sum(numbers, 9)"
   ]
  },
  {
   "cell_type": "code",
   "execution_count": 602,
   "metadata": {},
   "outputs": [
    {
     "name": "stdout",
     "output_type": "stream",
     "text": [
      "Found a subset with given sum\n"
     ]
    }
   ],
   "source": [
    "# A recursive solution for subset sum \n",
    "# problem \n",
    "  \n",
    "# Returns true if there is a subset  \n",
    "# of set[] with sun equal to given sum \n",
    "def isSubsetSum(set, n, sum) : \n",
    "    \n",
    "    # Base Cases \n",
    "    if (sum == 0) : \n",
    "        return True\n",
    "    if (n == 0) : \n",
    "        return False\n",
    "   \n",
    "    # If last element is greater than \n",
    "    # sum, then ignore it \n",
    "    if (set[n - 1] > sum) : \n",
    "        return isSubsetSum(set, n - 1, sum); \n",
    "   \n",
    "    # else, check if sum can be obtained \n",
    "    # by any of the following \n",
    "    # (a) including the last element \n",
    "    # (b) excluding the last element    \n",
    "    return isSubsetSum( \n",
    "set, n-1, sum) or isSubsetSum( \n",
    "set, n-1, sum-set[n-1]) \n",
    "      \n",
    "      \n",
    "# Driver program to test above function \n",
    "set = [3, 34, 4, 12, 5, 2] \n",
    "sum = 9\n",
    "n = len(set) \n",
    "if (isSubsetSum(set, n, sum) == True) : \n",
    "    print(\"Found a subset with given sum\") \n",
    "else : \n",
    "    print(\"No subset with given sum\") "
   ]
  },
  {
   "cell_type": "code",
   "execution_count": null,
   "metadata": {},
   "outputs": [],
   "source": []
  }
 ],
 "metadata": {
  "kernelspec": {
   "display_name": "Python 3",
   "language": "python",
   "name": "python3"
  },
  "language_info": {
   "codemirror_mode": {
    "name": "ipython",
    "version": 3
   },
   "file_extension": ".py",
   "mimetype": "text/x-python",
   "name": "python",
   "nbconvert_exporter": "python",
   "pygments_lexer": "ipython3",
   "version": "3.7.4"
  }
 },
 "nbformat": 4,
 "nbformat_minor": 2
}
