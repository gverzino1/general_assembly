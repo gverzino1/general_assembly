{
 "cells": [
  {
   "cell_type": "code",
   "execution_count": 1,
   "metadata": {},
   "outputs": [],
   "source": [
    "import pandas as pd\n",
    "import numpy as np"
   ]
  },
  {
   "cell_type": "code",
   "execution_count": 2,
   "metadata": {},
   "outputs": [
    {
     "data": {
      "text/plain": [
       "1"
      ]
     },
     "execution_count": 2,
     "metadata": {},
     "output_type": "execute_result"
    }
   ],
   "source": [
    "# Integer division\n",
    "5 // 5"
   ]
  },
  {
   "cell_type": "code",
   "execution_count": 5,
   "metadata": {},
   "outputs": [
    {
     "data": {
      "text/plain": [
       "1.04"
      ]
     },
     "execution_count": 5,
     "metadata": {},
     "output_type": "execute_result"
    }
   ],
   "source": [
    "# Float division\n",
    "5.2 / 5"
   ]
  },
  {
   "cell_type": "code",
   "execution_count": 7,
   "metadata": {},
   "outputs": [
    {
     "data": {
      "text/plain": [
       "'aB'"
      ]
     },
     "execution_count": 7,
     "metadata": {},
     "output_type": "execute_result"
    }
   ],
   "source": [
    "# can add strings together\n",
    "'a' + 'B'"
   ]
  },
  {
   "cell_type": "code",
   "execution_count": 23,
   "metadata": {},
   "outputs": [
    {
     "data": {
      "text/plain": [
       "5"
      ]
     },
     "execution_count": 23,
     "metadata": {},
     "output_type": "execute_result"
    }
   ],
   "source": [
    "int(5.8)"
   ]
  },
  {
   "cell_type": "code",
   "execution_count": 24,
   "metadata": {},
   "outputs": [
    {
     "data": {
      "text/plain": [
       "'5'"
      ]
     },
     "execution_count": 24,
     "metadata": {},
     "output_type": "execute_result"
    }
   ],
   "source": [
    "str(5)"
   ]
  },
  {
   "cell_type": "code",
   "execution_count": 26,
   "metadata": {},
   "outputs": [
    {
     "data": {
      "text/plain": [
       "5.3432"
      ]
     },
     "execution_count": 26,
     "metadata": {},
     "output_type": "execute_result"
    }
   ],
   "source": [
    "float(5.3432)"
   ]
  },
  {
   "cell_type": "code",
   "execution_count": 33,
   "metadata": {},
   "outputs": [
    {
     "name": "stdout",
     "output_type": "stream",
     "text": [
      "wear a raincoat\n"
     ]
    }
   ],
   "source": [
    "#################################\n",
    "####### IF STATEMENTS ###########\n",
    "\n",
    "chance_of_rain = 0.51\n",
    "\n",
    "if chance_of_rain > 0.50:\n",
    "    print(\"wear a raincoat\")"
   ]
  },
  {
   "cell_type": "code",
   "execution_count": 31,
   "metadata": {},
   "outputs": [
    {
     "name": "stdout",
     "output_type": "stream",
     "text": [
      "wear a cardigan\n"
     ]
    }
   ],
   "source": [
    "chance_of_rain = 0.4\n",
    "\n",
    "if chance_of_rain > 0.5:        # if <expression>:\n",
    "     print(\"wear a raincoat\")   # <indented line of code>\n",
    "else:\n",
    "    print(\"wear a cardigan\")     # the else statement"
   ]
  },
  {
   "cell_type": "code",
   "execution_count": 39,
   "metadata": {},
   "outputs": [
    {
     "name": "stdout",
     "output_type": "stream",
     "text": [
      "Youre a pretty good student\n"
     ]
    }
   ],
   "source": [
    "grade = 89\n",
    "if grade >= 90:\n",
    "    print('Youre an A student')\n",
    "elif grade >= 80:\n",
    "    print('Youre a pretty good student')\n",
    "elif grade >= 70:\n",
    "    print('You need some help bud')\n",
    "else:\n",
    "    print('You failed, sorry')"
   ]
  },
  {
   "cell_type": "code",
   "execution_count": 43,
   "metadata": {},
   "outputs": [
    {
     "name": "stdout",
     "output_type": "stream",
     "text": [
      "15\n"
     ]
    }
   ],
   "source": [
    "##################\n",
    "## FOR LOOPS #####\n",
    "\n",
    "# for loops are used when you want a process to repeat a certain number of fixed times\n",
    "\n",
    "total = 0     # to start, the total is 0\n",
    "for num in [0,1,2,3,4,5]:\n",
    "    total += num            # this means total = total + num\n",
    "\n",
    "print(total)\n"
   ]
  },
  {
   "cell_type": "code",
   "execution_count": 46,
   "metadata": {},
   "outputs": [
    {
     "name": "stdout",
     "output_type": "stream",
     "text": [
      "231292\n"
     ]
    }
   ],
   "source": [
    "# in order to see the entire sum of your start plus all numbers, print(total) goes outside\n",
    "total = 234000\n",
    "for num in [-7350,+3400,+3400,+5192,-7350]:\n",
    "    total += num\n",
    "print(total)"
   ]
  },
  {
   "cell_type": "code",
   "execution_count": null,
   "metadata": {},
   "outputs": [],
   "source": [
    "# to see the running sum of your start plus all numbers, indent your print(total) by one\n",
    "total = 234000\n",
    "for num in [-7350,+3400,+3400,+5192,-7350]:\n",
    "    total += num\n",
    "    print(total)"
   ]
  },
  {
   "cell_type": "code",
   "execution_count": 49,
   "metadata": {},
   "outputs": [
    {
     "name": "stdout",
     "output_type": "stream",
     "text": [
      "2\n",
      "3\n",
      "5\n",
      "Done!\n"
     ]
    }
   ],
   "source": [
    "primes = [2, 3, 5]          # Line 1\n",
    "\n",
    "for prime_number in primes: # Line 2\n",
    "    print(prime_number)     # Line 3, goes through prime 2, prime 3, prime 5\n",
    "\n",
    "print('Done!')              # Line 4, then prints done because the first indent is complete"
   ]
  },
  {
   "cell_type": "code",
   "execution_count": 64,
   "metadata": {},
   "outputs": [
    {
     "name": "stdout",
     "output_type": "stream",
     "text": [
      "1\n",
      "3\n",
      "6\n",
      "10\n",
      "15\n"
     ]
    }
   ],
   "source": [
    "# an easier for loop can use the range() function\n",
    "\n",
    "total = 0 \n",
    "for number in np.arange(1,6):\n",
    "    total += number\n",
    "    print(total)"
   ]
  },
  {
   "cell_type": "code",
   "execution_count": 60,
   "metadata": {},
   "outputs": [
    {
     "data": {
      "text/plain": [
       "array([ 5,  7,  9, 11, 13])"
      ]
     },
     "execution_count": 60,
     "metadata": {},
     "output_type": "execute_result"
    }
   ],
   "source": [
    "np.arange(5,15,2)"
   ]
  },
  {
   "cell_type": "code",
   "execution_count": 78,
   "metadata": {},
   "outputs": [
    {
     "name": "stdout",
     "output_type": "stream",
     "text": [
      "Type \"yes\" to continue.\n",
      "Do you want to quit the loop?no\n",
      "Please type \"yes\" so we can exit this loop.\n",
      "Do you want to quit the loop?happy\n",
      "Please type \"yes\" so we can exit this loop.\n",
      "Do you want to quit the loop?yes\n",
      "Thank you for typing \"yes.\"\n"
     ]
    }
   ],
   "source": [
    "################\n",
    "## while loop ##\n",
    "\n",
    "print('Type \"yes\" to continue.')                        # Line 1\n",
    "\n",
    "while input('Do you want to quit the loop?') != 'yes':  # Line 2: While the user does not enter 'yes', repeat.\n",
    "    print('Please type \"yes\" so we can exit this loop.')  # Line 3\n",
    "\n",
    "print('Thank you for typing \"yes.\"')                    # Line 4\n",
    "\n"
   ]
  },
  {
   "cell_type": "code",
   "execution_count": 76,
   "metadata": {},
   "outputs": [
    {
     "name": "stdout",
     "output_type": "stream",
     "text": [
      "what food is being added? grapes\n"
     ]
    }
   ],
   "source": [
    "food = input('what food is being added? ')"
   ]
  },
  {
   "cell_type": "code",
   "execution_count": 77,
   "metadata": {},
   "outputs": [
    {
     "data": {
      "text/plain": [
       "'grapes'"
      ]
     },
     "execution_count": 77,
     "metadata": {},
     "output_type": "execute_result"
    }
   ],
   "source": [
    "food"
   ]
  },
  {
   "cell_type": "code",
   "execution_count": 2,
   "metadata": {},
   "outputs": [
    {
     "name": "stdout",
     "output_type": "stream",
     "text": [
      "What is Kaylees favorite animal?bunny\n",
      "Rabbit! Yes. Good job\n"
     ]
    }
   ],
   "source": [
    "#print('Type \"yes\" to continue.')                        # Line 1\n",
    "\n",
    "while input('What is Kaylees favorite animal?') != 'bunny':  # Line 2: While the user does not enter 'yes', repeat.\n",
    "    print('Incorrect, knucklehead. Please try again.')  # Line 3\n",
    "\n",
    "print('Rabbit! Yes. Good job')                    # Line 4\n"
   ]
  },
  {
   "cell_type": "code",
   "execution_count": 92,
   "metadata": {},
   "outputs": [
    {
     "name": "stdout",
     "output_type": "stream",
     "text": [
      "count is currently 0\n",
      "count is currently 1\n",
      "count is currently 2\n",
      "count is currently 3\n",
      "count is currently 4\n",
      "count is currently 5\n",
      "count is currently 6\n",
      "count is currently 7\n",
      "count is currently 8\n",
      "count is currently 9\n",
      "We're out of the lopp. The value of the counter is now 10\n"
     ]
    }
   ],
   "source": [
    "counter = 0 \n",
    "\n",
    "while counter < 10:\n",
    "    print('count is currently',counter)\n",
    "    counter += 1\n",
    "    \n",
    "print(\"We're out of the lopp. The value of the counter is now\", counter)"
   ]
  },
  {
   "cell_type": "code",
   "execution_count": 94,
   "metadata": {},
   "outputs": [
    {
     "name": "stdout",
     "output_type": "stream",
     "text": [
      "The loop is currently 2\n",
      "The loop is currently 4\n",
      "The loop is currently 8\n",
      "The loop is currently 16\n",
      "The loop is no longer less than 10, its 16\n"
     ]
    }
   ],
   "source": [
    "x = 1\n",
    "\n",
    "while x < 10:\n",
    "    x = x * 2\n",
    "    print('The loop is currently', x)\n",
    "\n",
    "print('The loop is no longer less than 10, its', x)"
   ]
  },
  {
   "cell_type": "code",
   "execution_count": 21,
   "metadata": {},
   "outputs": [],
   "source": [
    "###################\n",
    "## making lists ##\n",
    "##################\n",
    "\n",
    "animal_types = ['bird','giraffe','whale']"
   ]
  },
  {
   "cell_type": "code",
   "execution_count": 22,
   "metadata": {},
   "outputs": [
    {
     "data": {
      "text/plain": [
       "3"
      ]
     },
     "execution_count": 22,
     "metadata": {},
     "output_type": "execute_result"
    }
   ],
   "source": [
    "len(animal_types)"
   ]
  },
  {
   "cell_type": "code",
   "execution_count": 23,
   "metadata": {},
   "outputs": [],
   "source": [
    "animal_types[0] = 'cat'"
   ]
  },
  {
   "cell_type": "code",
   "execution_count": 24,
   "metadata": {},
   "outputs": [
    {
     "data": {
      "text/plain": [
       "['cat', 'giraffe', 'whale']"
      ]
     },
     "execution_count": 24,
     "metadata": {},
     "output_type": "execute_result"
    }
   ],
   "source": [
    "animal_types"
   ]
  },
  {
   "cell_type": "code",
   "execution_count": 25,
   "metadata": {},
   "outputs": [],
   "source": [
    "animal_types.append('turkey')"
   ]
  },
  {
   "cell_type": "code",
   "execution_count": 26,
   "metadata": {},
   "outputs": [
    {
     "data": {
      "text/plain": [
       "['cat', 'giraffe', 'whale', 'turkey']"
      ]
     },
     "execution_count": 26,
     "metadata": {},
     "output_type": "execute_result"
    }
   ],
   "source": [
    "animal_types"
   ]
  },
  {
   "cell_type": "code",
   "execution_count": 28,
   "metadata": {},
   "outputs": [
    {
     "data": {
      "text/plain": [
       "'turkey'"
      ]
     },
     "execution_count": 28,
     "metadata": {},
     "output_type": "execute_result"
    }
   ],
   "source": [
    "animal_types.pop()"
   ]
  },
  {
   "cell_type": "code",
   "execution_count": 30,
   "metadata": {},
   "outputs": [
    {
     "data": {
      "text/plain": [
       "'a'"
      ]
     },
     "execution_count": 30,
     "metadata": {},
     "output_type": "execute_result"
    }
   ],
   "source": [
    "animal_types.pop()[2]"
   ]
  },
  {
   "cell_type": "code",
   "execution_count": 31,
   "metadata": {},
   "outputs": [
    {
     "data": {
      "text/plain": [
       "['cat', 'giraffe']"
      ]
     },
     "execution_count": 31,
     "metadata": {},
     "output_type": "execute_result"
    }
   ],
   "source": [
    "animal_types"
   ]
  },
  {
   "cell_type": "code",
   "execution_count": 32,
   "metadata": {},
   "outputs": [],
   "source": [
    "#######################################\n",
    "## tuples, lists that aren't mutable ##\n",
    "#######################################\n",
    "\n",
    "days_of_week = ('Monday','Tuesday','Wednesday','Thursday','Friday')\n",
    "# tuples are good for lists that won't change\n",
    "# days of the week\n",
    "# years\n",
    "# configuration settings of an application\n",
    "# they're also memory efficient"
   ]
  },
  {
   "cell_type": "code",
   "execution_count": 33,
   "metadata": {},
   "outputs": [
    {
     "data": {
      "text/plain": [
       "('Monday', 'Tuesday', 'Wednesday', 'Thursday', 'Friday')"
      ]
     },
     "execution_count": 33,
     "metadata": {},
     "output_type": "execute_result"
    }
   ],
   "source": [
    "days_of_week"
   ]
  },
  {
   "cell_type": "code",
   "execution_count": 37,
   "metadata": {},
   "outputs": [],
   "source": [
    "##############\n",
    "### sets #####\n",
    "# collection of unordered, unique elements\n",
    "# order doesn't matter\n",
    "# saves A LOT of memory, program runs much faster\n",
    "# must ensure no duplicates\n",
    "\n",
    "my_travels = {'India','Zambia','Ghana'}\n",
    "your_travels = {'Nicaragua','England','Italy'}"
   ]
  },
  {
   "cell_type": "code",
   "execution_count": 38,
   "metadata": {},
   "outputs": [
    {
     "data": {
      "text/plain": [
       "{'Ghana', 'India', 'Zambia'}"
      ]
     },
     "execution_count": 38,
     "metadata": {},
     "output_type": "execute_result"
    }
   ],
   "source": [
    "my_travels"
   ]
  },
  {
   "cell_type": "code",
   "execution_count": 39,
   "metadata": {},
   "outputs": [],
   "source": [
    "# to create an empty set, using set()\n",
    "# such untasty_fruit = set()"
   ]
  },
  {
   "cell_type": "code",
   "execution_count": 40,
   "metadata": {},
   "outputs": [],
   "source": [
    "##################\n",
    "## dictionaries ##\n",
    "\n",
    "book_authors = {'Moby Dick':'Melville','Harry Potter':'JK Rowling'}"
   ]
  },
  {
   "cell_type": "code",
   "execution_count": 42,
   "metadata": {},
   "outputs": [],
   "source": [
    "book_authors['Enders Game'] = 'Orsen Scott Card'"
   ]
  },
  {
   "cell_type": "code",
   "execution_count": 43,
   "metadata": {},
   "outputs": [
    {
     "data": {
      "text/plain": [
       "{'Moby Dick': 'Melville',\n",
       " 'Harry Potter': 'JK Rowling',\n",
       " 'Enders Game': 'Orsen Scott Card'}"
      ]
     },
     "execution_count": 43,
     "metadata": {},
     "output_type": "execute_result"
    }
   ],
   "source": [
    "book_authors"
   ]
  },
  {
   "cell_type": "code",
   "execution_count": 46,
   "metadata": {},
   "outputs": [
    {
     "data": {
      "text/plain": [
       "'India'"
      ]
     },
     "execution_count": 46,
     "metadata": {},
     "output_type": "execute_result"
    }
   ],
   "source": [
    "my_travels.pop()"
   ]
  },
  {
   "cell_type": "code",
   "execution_count": 48,
   "metadata": {},
   "outputs": [],
   "source": [
    "my_travels = {'India'}"
   ]
  },
  {
   "cell_type": "code",
   "execution_count": 51,
   "metadata": {},
   "outputs": [],
   "source": [
    "my_travels.add('Ghana')"
   ]
  },
  {
   "cell_type": "code",
   "execution_count": 66,
   "metadata": {},
   "outputs": [],
   "source": [
    "my_travels.update(['Jamaica','Bermuda'])"
   ]
  },
  {
   "cell_type": "code",
   "execution_count": 68,
   "metadata": {},
   "outputs": [
    {
     "data": {
      "text/plain": [
       "'i'"
      ]
     },
     "execution_count": 68,
     "metadata": {},
     "output_type": "execute_result"
    }
   ],
   "source": [
    "my_travels.pop()"
   ]
  },
  {
   "cell_type": "code",
   "execution_count": 70,
   "metadata": {},
   "outputs": [
    {
     "ename": "TypeError",
     "evalue": "'set' object is not subscriptable",
     "output_type": "error",
     "traceback": [
      "\u001b[1;31m---------------------------------------------------------------------------\u001b[0m",
      "\u001b[1;31mTypeError\u001b[0m                                 Traceback (most recent call last)",
      "\u001b[1;32m<ipython-input-70-0d3026c467ad>\u001b[0m in \u001b[0;36m<module>\u001b[1;34m\u001b[0m\n\u001b[1;32m----> 1\u001b[1;33m \u001b[0mmy_travels\u001b[0m\u001b[1;33m[\u001b[0m\u001b[1;36m0\u001b[0m\u001b[1;33m]\u001b[0m\u001b[1;33m\u001b[0m\u001b[1;33m\u001b[0m\u001b[0m\n\u001b[0m",
      "\u001b[1;31mTypeError\u001b[0m: 'set' object is not subscriptable"
     ]
    }
   ],
   "source": [
    "my_travels[0]"
   ]
  },
  {
   "cell_type": "code",
   "execution_count": 71,
   "metadata": {},
   "outputs": [],
   "source": [
    "house_categories = {'Single-Family Home', 'Condo', 'Duplex'}"
   ]
  },
  {
   "cell_type": "code",
   "execution_count": 72,
   "metadata": {},
   "outputs": [
    {
     "data": {
      "text/plain": [
       "3"
      ]
     },
     "execution_count": 72,
     "metadata": {},
     "output_type": "execute_result"
    }
   ],
   "source": [
    "len(house_categories)"
   ]
  },
  {
   "cell_type": "code",
   "execution_count": 73,
   "metadata": {},
   "outputs": [
    {
     "data": {
      "text/plain": [
       "12"
      ]
     },
     "execution_count": 73,
     "metadata": {},
     "output_type": "execute_result"
    }
   ],
   "source": [
    "len({3, 2, 9, 5, 3, 6, 2}) + len([3, 2, 9, 5, 3, 6, 2])"
   ]
  },
  {
   "cell_type": "code",
   "execution_count": 83,
   "metadata": {},
   "outputs": [
    {
     "name": "stdout",
     "output_type": "stream",
     "text": [
      "[2.1, 2.3, None, None, 8.9, None, 33.1]\n"
     ]
    }
   ],
   "source": [
    "str_to_float = ['2.1', '2.3', '7,5', '$12.12', '8.9', '5%', '33.1']\n",
    "\n",
    "floats = []\n",
    "bad_characters = ',$%'\n",
    "for number in str_to_float:\n",
    "    corrupted = False\n",
    "    for bad_character in bad_characters:  ##for the bad character\n",
    "        if bad_character in number:\n",
    "            corrupted = True\n",
    "    if corrupted:                        ## if corrupted, then append None to floats\n",
    "        floats.append(None)\n",
    "    else:                                ## otherwise, then append the number\n",
    "        floats.append(float(number))\n",
    "\n",
    "print(floats)"
   ]
  },
  {
   "cell_type": "code",
   "execution_count": 86,
   "metadata": {},
   "outputs": [
    {
     "name": "stdout",
     "output_type": "stream",
     "text": [
      "[3.2, None, None, 10.7, 11.9, None]\n"
     ]
    }
   ],
   "source": [
    "str_to_float = ['3.2','%5.5','5,5','10.7','11.9','G29']\n",
    "\n",
    "floats = []\n",
    "bad_numbers = '%,G'\n",
    "for number in str_to_float:\n",
    "    corrupted = False\n",
    "    for bad_number in bad_numbers:\n",
    "        if bad_number in number:\n",
    "            corrupted = True\n",
    "    if corrupted:\n",
    "        floats.append(None)\n",
    "    else:\n",
    "        floats.append(float(number))\n",
    "        \n",
    "print(floats)\n",
    "        "
   ]
  },
  {
   "cell_type": "code",
   "execution_count": 91,
   "metadata": {},
   "outputs": [
    {
     "name": "stdout",
     "output_type": "stream",
     "text": [
      "[3.2, None, None, 10.7, 11.9, None]\n"
     ]
    }
   ],
   "source": [
    "#################################\n",
    "##### using TRY and EXCEPT ######\n",
    "## a bit easier version of this code would be\n",
    "str_to_float = ['3.2','%5.5','5,5','10.7','11.9','G29']\n",
    "floats = []\n",
    "for number in str_to_float:\n",
    "    try:\n",
    "        floats.append(float(number))\n",
    "    except:\n",
    "        floats.append(None)\n",
    "\n",
    "print(floats)"
   ]
  },
  {
   "cell_type": "code",
   "execution_count": 130,
   "metadata": {},
   "outputs": [
    {
     "name": "stdout",
     "output_type": "stream",
     "text": [
      "Number: 10\n"
     ]
    }
   ],
   "source": [
    "############################\n",
    "#### the \"Raise\" alarm ####\n",
    "\n",
    "# raise can be used to alert a user of a specific error type\n",
    "\n",
    "def no_four(number):   #the function is called no_four, number is your keyword argument\n",
    "    if number == 4:    # this is the argument now\n",
    "        raise ValueError('No fours allowed')  #always use raise ValueError\n",
    "    else:\n",
    "        print('Number:', number)\n",
    "        \n",
    "no_four(10)"
   ]
  },
  {
   "cell_type": "code",
   "execution_count": 153,
   "metadata": {},
   "outputs": [
    {
     "name": "stdout",
     "output_type": "stream",
     "text": [
      "This number: 3 is a good/odd one\n"
     ]
    }
   ],
   "source": [
    "sets = [1,3,5,7,9]          #here you can define a set\n",
    "def good_numbers(number):\n",
    "    if number in sets:      #then assign keywork argument to that set\n",
    "        print('This number:', number, 'is a good/odd one')\n",
    "    else:\n",
    "        raise ValueError('This number is no good:', number)\n",
    "\n",
    "good_numbers(3)"
   ]
  },
  {
   "cell_type": "code",
   "execution_count": 156,
   "metadata": {},
   "outputs": [
    {
     "ename": "ValueError",
     "evalue": "('This isnt positive:', -1)",
     "output_type": "error",
     "traceback": [
      "\u001b[1;31m---------------------------------------------------------------------------\u001b[0m",
      "\u001b[1;31mValueError\u001b[0m                                Traceback (most recent call last)",
      "\u001b[1;32m<ipython-input-156-439b0c1b72f1>\u001b[0m in \u001b[0;36m<module>\u001b[1;34m\u001b[0m\n\u001b[0;32m      6\u001b[0m         \u001b[1;32mraise\u001b[0m \u001b[0mValueError\u001b[0m\u001b[1;33m(\u001b[0m\u001b[1;34m'This isnt positive:'\u001b[0m\u001b[1;33m,\u001b[0m \u001b[0moutput\u001b[0m\u001b[1;33m)\u001b[0m\u001b[1;33m\u001b[0m\u001b[1;33m\u001b[0m\u001b[0m\n\u001b[0;32m      7\u001b[0m \u001b[1;33m\u001b[0m\u001b[0m\n\u001b[1;32m----> 8\u001b[1;33m \u001b[0mpositive_only\u001b[0m\u001b[1;33m(\u001b[0m\u001b[1;36m4\u001b[0m\u001b[1;33m,\u001b[0m\u001b[1;33m-\u001b[0m\u001b[1;36m5\u001b[0m\u001b[1;33m)\u001b[0m\u001b[1;33m\u001b[0m\u001b[1;33m\u001b[0m\u001b[0m\n\u001b[0m",
      "\u001b[1;32m<ipython-input-156-439b0c1b72f1>\u001b[0m in \u001b[0;36mpositive_only\u001b[1;34m(a, b)\u001b[0m\n\u001b[0;32m      4\u001b[0m         \u001b[0mprint\u001b[0m\u001b[1;33m(\u001b[0m\u001b[1;34m'Yep, this'\u001b[0m\u001b[1;33m,\u001b[0m \u001b[0moutput\u001b[0m\u001b[1;33m,\u001b[0m \u001b[1;34m'is positive'\u001b[0m\u001b[1;33m)\u001b[0m\u001b[1;33m\u001b[0m\u001b[1;33m\u001b[0m\u001b[0m\n\u001b[0;32m      5\u001b[0m     \u001b[1;32melse\u001b[0m\u001b[1;33m:\u001b[0m\u001b[1;33m\u001b[0m\u001b[1;33m\u001b[0m\u001b[0m\n\u001b[1;32m----> 6\u001b[1;33m         \u001b[1;32mraise\u001b[0m \u001b[0mValueError\u001b[0m\u001b[1;33m(\u001b[0m\u001b[1;34m'This isnt positive:'\u001b[0m\u001b[1;33m,\u001b[0m \u001b[0moutput\u001b[0m\u001b[1;33m)\u001b[0m\u001b[1;33m\u001b[0m\u001b[1;33m\u001b[0m\u001b[0m\n\u001b[0m\u001b[0;32m      7\u001b[0m \u001b[1;33m\u001b[0m\u001b[0m\n\u001b[0;32m      8\u001b[0m \u001b[0mpositive_only\u001b[0m\u001b[1;33m(\u001b[0m\u001b[1;36m4\u001b[0m\u001b[1;33m,\u001b[0m\u001b[1;33m-\u001b[0m\u001b[1;36m5\u001b[0m\u001b[1;33m)\u001b[0m\u001b[1;33m\u001b[0m\u001b[1;33m\u001b[0m\u001b[0m\n",
      "\u001b[1;31mValueError\u001b[0m: ('This isnt positive:', -1)"
     ]
    }
   ],
   "source": [
    "def positive_only(a,b):\n",
    "    output = a + b\n",
    "    if output > 0:\n",
    "        print('Yep, this', output, 'is positive')\n",
    "    else:\n",
    "        raise ValueError('This isnt positive:', output)\n",
    "\n",
    "positive_only(4,-5)"
   ]
  },
  {
   "cell_type": "code",
   "execution_count": 163,
   "metadata": {},
   "outputs": [
    {
     "data": {
      "text/plain": [
       "3.3"
      ]
     },
     "execution_count": 163,
     "metadata": {},
     "output_type": "execute_result"
    }
   ],
   "source": [
    "#######################\n",
    "### basic functions ###\n",
    "#######################\n",
    "\n",
    "def my_function(arg1):   #function's name is my_function, argument is assigned\n",
    "    var2 = arg1 + 2      #argument undergoes computation, assigned to variable to call\n",
    "    return var2          #then call that variable (total) using return\n",
    "\n",
    "my_function(1.3)"
   ]
  },
  {
   "cell_type": "code",
   "execution_count": 166,
   "metadata": {},
   "outputs": [
    {
     "name": "stdout",
     "output_type": "stream",
     "text": [
      "6\n"
     ]
    }
   ],
   "source": [
    "## you can assign the function to variable to use it later\n",
    "\n",
    "def my_function(var1):\n",
    "    total = var1 + 3\n",
    "    return total\n",
    "gabe_code = my_function(3)\n",
    "\n",
    "print(gabe_code)             # now gabe_code always 6"
   ]
  },
  {
   "cell_type": "code",
   "execution_count": 167,
   "metadata": {},
   "outputs": [
    {
     "name": "stdout",
     "output_type": "stream",
     "text": [
      "5\n"
     ]
    }
   ],
   "source": [
    "print(my_function(2))        # the my_function will always perform the operation"
   ]
  },
  {
   "cell_type": "code",
   "execution_count": 170,
   "metadata": {},
   "outputs": [
    {
     "data": {
      "text/plain": [
       "'pink elephant'"
      ]
     },
     "execution_count": 170,
     "metadata": {},
     "output_type": "execute_result"
    }
   ],
   "source": [
    "### a function can take 2 arguments, or more!\n",
    "\n",
    "def my_printer(color, shape):\n",
    "    return color + \" \" + shape\n",
    "\n",
    "my_printer(\"pink\",'elephant')"
   ]
  },
  {
   "cell_type": "code",
   "execution_count": 171,
   "metadata": {},
   "outputs": [
    {
     "data": {
      "text/plain": [
       "14"
      ]
     },
     "execution_count": 171,
     "metadata": {},
     "output_type": "execute_result"
    }
   ],
   "source": [
    "def two_numbers(arg1,arg2):\n",
    "    value = arg1 + arg2\n",
    "    return value\n",
    "\n",
    "two_numbers(10,4)"
   ]
  },
  {
   "cell_type": "code",
   "execution_count": 177,
   "metadata": {},
   "outputs": [
    {
     "data": {
      "text/plain": [
       "4"
      ]
     },
     "execution_count": 177,
     "metadata": {},
     "output_type": "execute_result"
    }
   ],
   "source": [
    "def calculations(val1, operation, val2):\n",
    "    if operation == \"+\": return val1 + val2\n",
    "    if operation == \"*\": return val1 * val2\n",
    "    if operation == \"-\": return val1 - val2\n",
    "    if operation == \"/\": return val1/val2\n",
    "\n",
    "calculations(2,\"*\",2)"
   ]
  },
  {
   "cell_type": "code",
   "execution_count": 180,
   "metadata": {},
   "outputs": [
    {
     "data": {
      "text/plain": [
       "'bookshelf'"
      ]
     },
     "execution_count": 180,
     "metadata": {},
     "output_type": "execute_result"
    }
   ],
   "source": [
    "def compound(word1,word2):\n",
    "    return word1+word2\n",
    "compound(\"book\",\"shelf\")"
   ]
  },
  {
   "cell_type": "code",
   "execution_count": 190,
   "metadata": {},
   "outputs": [
    {
     "data": {
      "text/plain": [
       "2.0"
      ]
     },
     "execution_count": 190,
     "metadata": {},
     "output_type": "execute_result"
    }
   ],
   "source": [
    "#####################################\n",
    "### adding two functions together ###\n",
    "#####################################\n",
    "\n",
    "def add_numbers(number1,number2,number3):\n",
    "    return number1 + number2 + number3\n",
    "\n",
    "def get_average(number1,number2,number3):\n",
    "    sum_of_numbers = add_numbers(number1,number2,number3)\n",
    "    average = sum_of_numbers/3\n",
    "    return average\n",
    "\n",
    "get_average(1,2,3)"
   ]
  },
  {
   "cell_type": "code",
   "execution_count": 191,
   "metadata": {},
   "outputs": [
    {
     "data": {
      "text/plain": [
       "'howdy there amigosss is the lowercase version of the input string'"
      ]
     },
     "execution_count": 191,
     "metadata": {},
     "output_type": "execute_result"
    }
   ],
   "source": [
    "#########################\n",
    "## working with functions ##\n",
    "###########################\n",
    "\n",
    "def some_func(str_arg):\n",
    "    lowercase_str = str_arg.lower()\n",
    "    final_str = lowercase_str + \" is the lowercase version of the input string\"\n",
    "    return final_str\n",
    "\n",
    "some_func('Howdy THERE amigosss')"
   ]
  },
  {
   "cell_type": "code",
   "execution_count": 207,
   "metadata": {},
   "outputs": [
    {
     "data": {
      "text/plain": [
       "9"
      ]
     },
     "execution_count": 207,
     "metadata": {},
     "output_type": "execute_result"
    }
   ],
   "source": [
    "def square(number):\n",
    "    total = number**2\n",
    "    return total\n",
    "\n",
    "square(3)"
   ]
  },
  {
   "cell_type": "code",
   "execution_count": 213,
   "metadata": {},
   "outputs": [
    {
     "data": {
      "text/plain": [
       "False"
      ]
     },
     "execution_count": 213,
     "metadata": {},
     "output_type": "execute_result"
    }
   ],
   "source": [
    "def is_jacket_required(temps):\n",
    "    if temps > 65:\n",
    "        return False\n",
    "    else:\n",
    "        return True\n",
    "\n",
    "is_jacket_required(99)"
   ]
  },
  {
   "cell_type": "code",
   "execution_count": null,
   "metadata": {},
   "outputs": [],
   "source": []
  },
  {
   "cell_type": "code",
   "execution_count": null,
   "metadata": {},
   "outputs": [],
   "source": []
  }
 ],
 "metadata": {
  "kernelspec": {
   "display_name": "Python 3",
   "language": "python",
   "name": "python3"
  },
  "language_info": {
   "codemirror_mode": {
    "name": "ipython",
    "version": 3
   },
   "file_extension": ".py",
   "mimetype": "text/x-python",
   "name": "python",
   "nbconvert_exporter": "python",
   "pygments_lexer": "ipython3",
   "version": "3.7.4"
  }
 },
 "nbformat": 4,
 "nbformat_minor": 2
}
