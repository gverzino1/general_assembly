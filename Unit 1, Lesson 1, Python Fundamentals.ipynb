{
 "cells": [
  {
   "cell_type": "markdown",
   "metadata": {},
   "source": [
    "Learning Objectives\n",
    "\n",
    "- What are python types\n",
    "- Common functions\n",
    "- Control flow"
   ]
  },
  {
   "cell_type": "code",
   "execution_count": 1,
   "metadata": {},
   "outputs": [],
   "source": [
    "import pandas as pd\n",
    "pd.options.display.float_format = '{:.2f}'.format"
   ]
  },
  {
   "cell_type": "markdown",
   "metadata": {},
   "source": [
    "Static Typing = Variable stays constant for program\n",
    "Dynamic Typing = Variable can be changed in program\n",
    "Strong Typing = the variable type determines what can be done to it\n",
    "Weak Typing = you can covert the variable as you see fit\n",
    "\n",
    "Python is a DYNAMIC and STRONG TYPED language"
   ]
  },
  {
   "cell_type": "markdown",
   "metadata": {},
   "source": [
    "Single elements: integers, floats, strings\n",
    "Collections: Tuples, lists, dictionaries\n",
    "\n",
    "Tuples => Immutable; ordered\n",
    "Lists => Mutable; ordered\n",
    "Dictionaries => Mutable; no order"
   ]
  },
  {
   "cell_type": "code",
   "execution_count": 2,
   "metadata": {},
   "outputs": [
    {
     "data": {
      "text/plain": [
       "'nne'"
      ]
     },
     "execution_count": 2,
     "metadata": {},
     "output_type": "execute_result"
    }
   ],
   "source": [
    "['Carol', 'Anne', 'Jessica', 'Michelle'][1][1:]\n"
   ]
  },
  {
   "cell_type": "code",
   "execution_count": 3,
   "metadata": {},
   "outputs": [
    {
     "data": {
      "text/plain": [
       "['gabe', 'larry', 'moe', 'sarah']"
      ]
     },
     "execution_count": 3,
     "metadata": {},
     "output_type": "execute_result"
    }
   ],
   "source": [
    "# Use append to add item to a list\n",
    "\n",
    "list = ['gabe','larry','moe']\n",
    "list.append('sarah')\n",
    "list"
   ]
  },
  {
   "cell_type": "code",
   "execution_count": 4,
   "metadata": {},
   "outputs": [
    {
     "data": {
      "text/plain": [
       "['gabe', 'larry', 'moe', 'sarah', 'michelle', 'doughlas']"
      ]
     },
     "execution_count": 4,
     "metadata": {},
     "output_type": "execute_result"
    }
   ],
   "source": [
    "# Use extend to add more than one name\n",
    "\n",
    "list.extend(['michelle','doughlas'])\n",
    "list"
   ]
  },
  {
   "cell_type": "code",
   "execution_count": 6,
   "metadata": {},
   "outputs": [
    {
     "data": {
      "text/plain": [
       "['gabe', 'kaylee', 'larry', 'moe', 'sarah', 'michelle', 'doughlas']"
      ]
     },
     "execution_count": 6,
     "metadata": {},
     "output_type": "execute_result"
    }
   ],
   "source": [
    "# use insert to add an item to a specific spot\n",
    "\n",
    "list.insert(1,'kaylee')\n",
    "list"
   ]
  },
  {
   "cell_type": "code",
   "execution_count": 7,
   "metadata": {},
   "outputs": [
    {
     "data": {
      "text/plain": [
       "['gabe', 'kaylee', 'larry', 'moe', 'sarah', 'michelle']"
      ]
     },
     "execution_count": 7,
     "metadata": {},
     "output_type": "execute_result"
    }
   ],
   "source": [
    "list.remove('doughlas')\n",
    "list"
   ]
  },
  {
   "cell_type": "code",
   "execution_count": 9,
   "metadata": {},
   "outputs": [
    {
     "data": {
      "text/plain": [
       "['gabe', 'larry', 'moe', 'sarah', 'michelle']"
      ]
     },
     "execution_count": 9,
     "metadata": {},
     "output_type": "execute_result"
    }
   ],
   "source": [
    "list.pop(1) #this will remove kaylee\n",
    "list"
   ]
  },
  {
   "cell_type": "code",
   "execution_count": 10,
   "metadata": {},
   "outputs": [
    {
     "data": {
      "text/plain": [
       "['gabe', 'larry', 'moe', 'sarah', 'michelle', 'roger']"
      ]
     },
     "execution_count": 10,
     "metadata": {},
     "output_type": "execute_result"
    }
   ],
   "source": [
    "list.append('roger')\n",
    "list"
   ]
  },
  {
   "cell_type": "code",
   "execution_count": 55,
   "metadata": {},
   "outputs": [
    {
     "data": {
      "text/plain": [
       "['gabe', 'moe', 'michelle']"
      ]
     },
     "execution_count": 55,
     "metadata": {},
     "output_type": "execute_result"
    }
   ],
   "source": [
    "list[::2] # return every other item"
   ]
  },
  {
   "cell_type": "code",
   "execution_count": 82,
   "metadata": {},
   "outputs": [
    {
     "data": {
      "text/plain": [
       "['a', 'c', 'e']"
      ]
     },
     "execution_count": 82,
     "metadata": {},
     "output_type": "execute_result"
    }
   ],
   "source": [
    "# return every other item using a function\n",
    "\n",
    "lists = ['a','b','c','d','e']\n",
    "\n",
    "def skip_words(elements):\n",
    "    new_list = []\n",
    "    i = 0\n",
    "    for words in elements:\n",
    "        if i <= len(elements):\n",
    "            new_list.append(elements[i])\n",
    "            i += 2\n",
    "    return new_list\n",
    "\n",
    "skip_words(lists)"
   ]
  },
  {
   "cell_type": "code",
   "execution_count": 56,
   "metadata": {},
   "outputs": [
    {
     "data": {
      "text/plain": [
       "['gabe', 'moe', 'michelle']"
      ]
     },
     "execution_count": 56,
     "metadata": {},
     "output_type": "execute_result"
    }
   ],
   "source": [
    "# return every other letter using function\n",
    "\n",
    "[list[i] for i in range(0,len(list),2)]"
   ]
  },
  {
   "cell_type": "code",
   "execution_count": 88,
   "metadata": {},
   "outputs": [
    {
     "data": {
      "text/plain": [
       "[4, 9, 14, 19, 24, 29, 34, 39, 44, 49, 54, 59, 64, 69, 74, 79]"
      ]
     },
     "execution_count": 88,
     "metadata": {},
     "output_type": "execute_result"
    }
   ],
   "source": [
    "# create list of all numbers between 1 and 100, inclusive\n",
    "# slice to get every 5th number, starting at 4, ending at 82\n",
    "\n",
    "[x for x in range(4,82,5)]"
   ]
  },
  {
   "cell_type": "markdown",
   "metadata": {},
   "source": [
    "***CONTROL FLOW!!***"
   ]
  },
  {
   "cell_type": "code",
   "execution_count": null,
   "metadata": {},
   "outputs": [],
   "source": []
  },
  {
   "cell_type": "code",
   "execution_count": null,
   "metadata": {},
   "outputs": [],
   "source": []
  }
 ],
 "metadata": {
  "kernelspec": {
   "display_name": "Python 3",
   "language": "python",
   "name": "python3"
  },
  "language_info": {
   "codemirror_mode": {
    "name": "ipython",
    "version": 3
   },
   "file_extension": ".py",
   "mimetype": "text/x-python",
   "name": "python",
   "nbconvert_exporter": "python",
   "pygments_lexer": "ipython3",
   "version": "3.7.4"
  }
 },
 "nbformat": 4,
 "nbformat_minor": 2
}
