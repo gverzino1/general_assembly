{
 "cells": [
  {
   "cell_type": "code",
   "execution_count": null,
   "metadata": {},
   "outputs": [],
   "source": [
    "lists = [\"Yeah, if there's anything, anything I can do do! Let me do it! OK? 8:30 ok?\"]\n",
    "lists1 = ''.join(lists)"
   ]
  },
  {
   "cell_type": "code",
   "execution_count": null,
   "metadata": {},
   "outputs": [],
   "source": [
    "def clean_str(string):\n",
    "    clean1 = ''.join(string)\n",
    "    clean2 = re.sub('[^0-9a-zA-Z -]','',clean1)\n",
    "    split = clean2.split(' ')\n",
    "\n",
    "    dupe_words = set()\n",
    "    for word in split:\n",
    "        if word in dupe_words:\n",
    "            return word\n",
    "        else:\n",
    "            dupe_words.add(word)\n",
    "    return None\n",
    "\n",
    "clean_str(lists)"
   ]
  },
  {
   "cell_type": "code",
   "execution_count": 6,
   "metadata": {},
   "outputs": [
    {
     "data": {
      "text/plain": [
       "[1, 3, 4, 6, 8, 19, 20, 20, 21, 22, 23]"
      ]
     },
     "execution_count": 6,
     "metadata": {},
     "output_type": "execute_result"
    }
   ],
   "source": [
    "# make a list, add more items, remove some items\n",
    "\n",
    "items = [1,3,4,6,8,19,20]\n",
    "items\n",
    "items.extend([20,21,22,23,24])\n",
    "items"
   ]
  },
  {
   "cell_type": "code",
   "execution_count": 8,
   "metadata": {},
   "outputs": [
    {
     "data": {
      "text/plain": [
       "[3, 4, 6, 8, 19, 20, 20, 21, 22]"
      ]
     },
     "execution_count": 8,
     "metadata": {},
     "output_type": "execute_result"
    }
   ],
   "source": [
    "items.pop() #remove the last item, or use .pop(0) to remove the first one\n",
    "items"
   ]
  },
  {
   "cell_type": "code",
   "execution_count": 9,
   "metadata": {},
   "outputs": [
    {
     "data": {
      "text/plain": [
       "[3, 4, 6, 8, 19, 20]"
      ]
     },
     "execution_count": 9,
     "metadata": {},
     "output_type": "execute_result"
    }
   ],
   "source": [
    "# remove the last three items\n",
    "for i in range(3):\n",
    "    items.pop()\n",
    "\n",
    "items"
   ]
  },
  {
   "cell_type": "code",
   "execution_count": 22,
   "metadata": {},
   "outputs": [
    {
     "data": {
      "text/plain": [
       "[20, 19, 8, 6, 4, 3]"
      ]
     },
     "execution_count": 22,
     "metadata": {},
     "output_type": "execute_result"
    }
   ],
   "source": [
    "# reorder the conents of the list, make them go backwards\n",
    "new_order = [5,4,3,2,1,0]\n",
    "new_list = [items[i] for i in new_order]\n",
    "new_list\n"
   ]
  },
  {
   "cell_type": "code",
   "execution_count": 47,
   "metadata": {},
   "outputs": [
    {
     "data": {
      "text/plain": [
       "{'steve': 23, 'mike': 11, 'wilson': 42, 'michelle': 38, 'michael': 43}"
      ]
     },
     "execution_count": 47,
     "metadata": {},
     "output_type": "execute_result"
    }
   ],
   "source": [
    "# create a dictionary, adds 2 pairs, remove 1 pair\n",
    "\n",
    "dictionary = {'steve':23,'mike':11,'wilson':42,'michelle':31}\n",
    "dictionary.update([('michael',43),('michelle',38)])\n",
    "dictionary"
   ]
  },
  {
   "cell_type": "code",
   "execution_count": 50,
   "metadata": {},
   "outputs": [
    {
     "data": {
      "text/plain": [
       "{'steve': 23, 'mike': 11, 'wilson': 42, 'michael': 43}"
      ]
     },
     "execution_count": 50,
     "metadata": {},
     "output_type": "execute_result"
    }
   ],
   "source": [
    "dictionary.pop('michelle')\n",
    "dictionary"
   ]
  },
  {
   "cell_type": "code",
   "execution_count": 53,
   "metadata": {},
   "outputs": [],
   "source": [
    "dictionary.update([('jimmy',56)])"
   ]
  },
  {
   "cell_type": "code",
   "execution_count": 57,
   "metadata": {},
   "outputs": [
    {
     "data": {
      "text/plain": [
       "[43, None]"
      ]
     },
     "execution_count": 57,
     "metadata": {},
     "output_type": "execute_result"
    }
   ],
   "source": [
    "# remove last two items\n",
    "[dictionary.pop(x,None) for x in ['michael','michelle']]\n",
    "dictionary"
   ]
  },
  {
   "cell_type": "code",
   "execution_count": 60,
   "metadata": {},
   "outputs": [
    {
     "data": {
      "text/plain": [
       "{'steve': 23, 'jimmy': 56, 'mike': 11, 'wilson': 42}"
      ]
     },
     "execution_count": 60,
     "metadata": {},
     "output_type": "execute_result"
    }
   ],
   "source": [
    "# move items of dictionary around\n",
    "\n",
    "new_order = {'steve': 23, 'jimmy': 56, 'mike': 11, 'wilson': 42}\n",
    "\n",
    "new_dictionary = {k: dictionary[k] for k in new_order}\n",
    "new_dictionary"
   ]
  },
  {
   "cell_type": "code",
   "execution_count": 70,
   "metadata": {},
   "outputs": [
    {
     "data": {
      "text/plain": [
       "[3, 20, 19, 6, 4]"
      ]
     },
     "execution_count": 70,
     "metadata": {},
     "output_type": "execute_result"
    }
   ],
   "source": [
    "# move items of list around\n",
    "\n",
    "new_order = [0,5,4,2,1]\n",
    "new_list = [items[i] for i in new_order]\n",
    "new_list"
   ]
  },
  {
   "cell_type": "code",
   "execution_count": null,
   "metadata": {},
   "outputs": [],
   "source": []
  },
  {
   "cell_type": "code",
   "execution_count": null,
   "metadata": {},
   "outputs": [],
   "source": []
  }
 ],
 "metadata": {
  "kernelspec": {
   "display_name": "Python 3",
   "language": "python",
   "name": "python3"
  },
  "language_info": {
   "codemirror_mode": {
    "name": "ipython",
    "version": 3
   },
   "file_extension": ".py",
   "mimetype": "text/x-python",
   "name": "python",
   "nbconvert_exporter": "python",
   "pygments_lexer": "ipython3",
   "version": "3.7.4"
  }
 },
 "nbformat": 4,
 "nbformat_minor": 2
}
